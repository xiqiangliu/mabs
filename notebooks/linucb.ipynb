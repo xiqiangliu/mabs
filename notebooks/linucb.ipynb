{
 "cells": [
  {
   "cell_type": "code",
   "execution_count": 1,
   "metadata": {},
   "outputs": [],
   "source": [
    "import seaborn as sns\n",
    "from pathlib import Path\n",
    "\n",
    "import mabs\n",
    "\n",
    "sns.set_theme()"
   ]
  },
  {
   "cell_type": "code",
   "execution_count": null,
   "metadata": {},
   "outputs": [],
   "source": [
    "mabs.visualization.plot_mean(\n",
    "    Path(\"../results/linucb/normal.pkl\").resolve(), group_name=\"arm_combination\", x_axis=\"mu\"\n",
    ")"
   ]
  },
  {
   "cell_type": "code",
   "execution_count": null,
   "metadata": {},
   "outputs": [],
   "source": [
    "mabs.visualization.plot_var(\n",
    "    Path(\"../results/linucb/normal.pkl\").resolve(), group_name=\"arm_combination\", x_axis=\"mu\"\n",
    ")"
   ]
  }
 ],
 "metadata": {
  "kernelspec": {
   "display_name": "Python 3.10.8 ('mabs')",
   "language": "python",
   "name": "python3"
  },
  "language_info": {
   "codemirror_mode": {
    "name": "ipython",
    "version": 3
   },
   "file_extension": ".py",
   "mimetype": "text/x-python",
   "name": "python",
   "nbconvert_exporter": "python",
   "pygments_lexer": "ipython3",
   "version": "3.10.8"
  },
  "orig_nbformat": 4,
  "vscode": {
   "interpreter": {
    "hash": "3251fdcccef7f18178bd5180c65861734dc79290ff069353d2b9ba579c600145"
   }
  }
 },
 "nbformat": 4,
 "nbformat_minor": 2
}
